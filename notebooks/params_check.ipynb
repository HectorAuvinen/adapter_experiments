{
 "cells": [
  {
   "cell_type": "code",
   "execution_count": 1,
   "metadata": {},
   "outputs": [
    {
     "name": "stderr",
     "output_type": "stream",
     "text": [
      "c:\\Users\\Hector Auvinen\\Documents\\GitHub\\adapter_experiments\\adapter_env\\lib\\site-packages\\tqdm\\auto.py:21: TqdmWarning: IProgress not found. Please update jupyter and ipywidgets. See https://ipywidgets.readthedocs.io/en/stable/user_install.html\n",
      "  from .autonotebook import tqdm as notebook_tqdm\n"
     ]
    }
   ],
   "source": [
    "import sys,os\n",
    "import json\n",
    "project_root = os.path.dirname(os.getcwd())\n",
    "sys.path.insert(0,project_root)\n",
    "\n",
    "from src.data_handling.load_data import *\n",
    "from src.data_handling.preprocessing import *\n",
    "from src.models.model_setup import *\n",
    "from src.trainer.training import *\n",
    "from src.utils.file_utils import *\n",
    "from transformers import set_seed"
   ]
  },
  {
   "cell_type": "code",
   "execution_count": 26,
   "metadata": {},
   "outputs": [],
   "source": [
    "task = \"cb\"\n",
    "model_name = \"haisongzhang/roberta-tiny-cased\"\n",
    "max_length = 128"
   ]
  },
  {
   "cell_type": "code",
   "execution_count": 27,
   "metadata": {},
   "outputs": [
    {
     "name": "stderr",
     "output_type": "stream",
     "text": [
      "Using the latest cached version of the module from C:\\Users\\Hector Auvinen\\.cache\\huggingface\\modules\\datasets_modules\\datasets\\super_glue\\bb9675f958ebfee0d5d6dc5476fafe38c79123727a7258d515c450873dbdbbed (last modified on Wed Feb 14 20:44:54 2024) since it couldn't be found locally at super_glue, or remotely on the Hugging Face Hub.\n"
     ]
    },
    {
     "name": "stdout",
     "output_type": "stream",
     "text": [
      "getting encoding:\n",
      "<function encode_cb at 0x000002A92CD76AF0>\n"
     ]
    },
    {
     "name": "stderr",
     "output_type": "stream",
     "text": [
      "Map: 100%|██████████| 250/250 [00:00<00:00, 2506.94 examples/s]\n",
      "Map: 100%|██████████| 56/56 [00:00<00:00, 1111.66 examples/s]\n",
      "Map: 100%|██████████| 250/250 [00:00<00:00, 2510.68 examples/s]\n"
     ]
    },
    {
     "name": "stdout",
     "output_type": "stream",
     "text": [
      "mapped\n",
      "{'train': ['premise', 'hypothesis', 'idx', 'label', 'input_ids', 'token_type_ids', 'attention_mask'], 'validation': ['premise', 'hypothesis', 'idx', 'label', 'input_ids', 'token_type_ids', 'attention_mask'], 'test': ['premise', 'hypothesis', 'idx', 'label', 'input_ids', 'token_type_ids', 'attention_mask']}\n"
     ]
    }
   ],
   "source": [
    "data = load_hf_dataset(task)\n",
    "# get tokenizer (bert)\n",
    "tokenizer = get_tokenizer(model_name)\n",
    "# get encoding method for particular task\n",
    "encode = get_encoding(task)\n",
    "# apply encoding\n",
    "dataset = preprocess_dataset(data,encode,tokenizer,max_length)\n",
    "# get label count\n",
    "num_labels = get_label_count(dataset)\n",
    "# set up model (head with num labels)\n",
    "roberta_model = setup_model(model_name,num_labels,dataset)"
   ]
  },
  {
   "cell_type": "code",
   "execution_count": 28,
   "metadata": {},
   "outputs": [
    {
     "name": "stdout",
     "output_type": "stream",
     "text": [
      "Model Layers: 4\n",
      "Hidden Size: 512\n",
      "Number of Heads: 8\n",
      "27982336\n"
     ]
    }
   ],
   "source": [
    "roberta_tiny_params = sum(p.numel() for p in roberta_model.parameters())\n",
    "# Print model configuration\n",
    "print(f\"Model Layers: {roberta_model.config.num_hidden_layers}\")\n",
    "print(f\"Hidden Size: {roberta_model.config.hidden_size}\")\n",
    "print(f\"Number of Heads: {roberta_model.config.num_attention_heads}\")\n",
    "print(roberta_tiny_params)"
   ]
  },
  {
   "cell_type": "code",
   "execution_count": 35,
   "metadata": {},
   "outputs": [],
   "source": [
    "task = \"cb\"\n",
    "model_name = \"google/bert_uncased_L-2_H-128_A-2\"\n",
    "#model_name = \"google/bert_uncased_L-4_H-512_A-8\"\n",
    "max_length = 128"
   ]
  },
  {
   "cell_type": "code",
   "execution_count": 36,
   "metadata": {},
   "outputs": [
    {
     "name": "stdout",
     "output_type": "stream",
     "text": [
      "getting encoding:\n",
      "<function encode_cb at 0x000002A92CD76AF0>\n"
     ]
    },
    {
     "name": "stderr",
     "output_type": "stream",
     "text": [
      "Map: 100%|██████████| 250/250 [00:00<00:00, 2289.26 examples/s]\n",
      "Map: 100%|██████████| 56/56 [00:00<00:00, 1080.98 examples/s]\n",
      "Map: 100%|██████████| 250/250 [00:00<00:00, 2753.58 examples/s]\n"
     ]
    },
    {
     "name": "stdout",
     "output_type": "stream",
     "text": [
      "mapped\n",
      "{'train': ['premise', 'hypothesis', 'idx', 'label', 'input_ids', 'token_type_ids', 'attention_mask'], 'validation': ['premise', 'hypothesis', 'idx', 'label', 'input_ids', 'token_type_ids', 'attention_mask'], 'test': ['premise', 'hypothesis', 'idx', 'label', 'input_ids', 'token_type_ids', 'attention_mask']}\n"
     ]
    }
   ],
   "source": [
    "\n",
    "\n",
    "data = load_hf_dataset(task)\n",
    "# get tokenizer (bert)\n",
    "tokenizer = get_tokenizer(model_name)\n",
    "# get encoding method for particular task\n",
    "encode = get_encoding(task)\n",
    "# apply encoding\n",
    "dataset = preprocess_dataset(data,encode,tokenizer,max_length)\n",
    "# get label count\n",
    "num_labels = get_label_count(dataset)\n",
    "# set up model (head with num labels)\n",
    "bert_model = setup_model(model_name,num_labels,dataset)"
   ]
  },
  {
   "cell_type": "code",
   "execution_count": 37,
   "metadata": {},
   "outputs": [
    {
     "name": "stdout",
     "output_type": "stream",
     "text": [
      "Model Layers: 2\n",
      "Hidden Size: 128\n",
      "Number of Heads: 2\n",
      "4385920\n"
     ]
    }
   ],
   "source": [
    "bert_small_params = sum(p.numel() for p in bert_model.parameters())\n",
    "print(f\"Model Layers: {bert_model.config.num_hidden_layers}\")\n",
    "print(f\"Hidden Size: {bert_model.config.hidden_size}\")\n",
    "print(f\"Number of Heads: {bert_model.config.num_attention_heads}\")\n",
    "print(bert_small_params)"
   ]
  },
  {
   "cell_type": "code",
   "execution_count": 25,
   "metadata": {},
   "outputs": [
    {
     "name": "stdout",
     "output_type": "stream",
     "text": [
      "1.027921614549979\n"
     ]
    }
   ],
   "source": [
    "print(bert_small_params/roberta_tiny_params)"
   ]
  },
  {
   "cell_type": "code",
   "execution_count": null,
   "metadata": {},
   "outputs": [],
   "source": []
  }
 ],
 "metadata": {
  "kernelspec": {
   "display_name": "adapter_env",
   "language": "python",
   "name": "python3"
  },
  "language_info": {
   "codemirror_mode": {
    "name": "ipython",
    "version": 3
   },
   "file_extension": ".py",
   "mimetype": "text/x-python",
   "name": "python",
   "nbconvert_exporter": "python",
   "pygments_lexer": "ipython3",
   "version": "3.9.15"
  }
 },
 "nbformat": 4,
 "nbformat_minor": 2
}
