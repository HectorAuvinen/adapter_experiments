{
 "cells": [
  {
   "cell_type": "markdown",
   "metadata": {},
   "source": [
    "# This notebook shows the architecture & number of parameters of the different models"
   ]
  },
  {
   "cell_type": "code",
   "execution_count": 1,
   "metadata": {},
   "outputs": [
    {
     "name": "stderr",
     "output_type": "stream",
     "text": [
      "c:\\Users\\Hector Auvinen\\Documents\\GitHub\\adapter_experiments\\adapter_env\\lib\\site-packages\\tqdm\\auto.py:21: TqdmWarning: IProgress not found. Please update jupyter and ipywidgets. See https://ipywidgets.readthedocs.io/en/stable/user_install.html\n",
      "  from .autonotebook import tqdm as notebook_tqdm\n"
     ]
    }
   ],
   "source": [
    "import sys,os\n",
    "import json\n",
    "project_root = os.path.dirname(os.getcwd())\n",
    "sys.path.insert(0,project_root)\n",
    "\n",
    "from src.load_data import *\n",
    "from src.preprocessing import *\n",
    "from src.model_setup import *\n",
    "from src.training import *\n",
    "from src.file_utils import *\n",
    "from transformers import set_seed"
   ]
  },
  {
   "cell_type": "code",
   "execution_count": 2,
   "metadata": {},
   "outputs": [],
   "source": [
    "def load_and_setup_model(task=\"cb\",model_name=\"haisongzhang/roberta-tiny-cased\",max_length=128):\n",
    "    data = load_hf_dataset(task)\n",
    "    # get tokenizer (bert)\n",
    "    tokenizer = get_tokenizer(model_name)\n",
    "    # get encoding method for particular task\n",
    "    encode = get_encoding(task)\n",
    "    # apply encoding\n",
    "    dataset = preprocess_dataset(data,encode,tokenizer,max_length)\n",
    "    # get label count\n",
    "    num_labels = get_label_count(dataset)\n",
    "    # set up model (head with num labels)\n",
    "    model = setup_model(model_name,num_labels,dataset)\n",
    "    return model"
   ]
  },
  {
   "cell_type": "code",
   "execution_count": 3,
   "metadata": {},
   "outputs": [
    {
     "name": "stdout",
     "output_type": "stream",
     "text": [
      "Model Layers: 4\n",
      "Hidden Size: 512\n",
      "Number of Heads: 8\n",
      "27982336\n"
     ]
    }
   ],
   "source": [
    "roberta_tiny_model = load_and_setup_model(model_name=\"haisongzhang/roberta-tiny-cased\")\n",
    "roberta_tiny_params = sum(p.numel() for p in roberta_tiny_model.parameters())\n",
    "# Print model configuration\n",
    "print(f\"Model Layers: {roberta_tiny_model.config.num_hidden_layers}\")\n",
    "print(f\"Hidden Size: {roberta_tiny_model.config.hidden_size}\")\n",
    "print(f\"Number of Heads: {roberta_tiny_model.config.num_attention_heads}\")\n",
    "print(roberta_tiny_params)"
   ]
  },
  {
   "cell_type": "code",
   "execution_count": 4,
   "metadata": {},
   "outputs": [
    {
     "name": "stderr",
     "output_type": "stream",
     "text": [
      "Map: 100%|██████████| 56/56 [00:00<00:00, 1259.93 examples/s]\n"
     ]
    },
    {
     "name": "stdout",
     "output_type": "stream",
     "text": [
      "Model Layers: 2\n",
      "Hidden Size: 128\n",
      "Number of Heads: 2\n",
      "Parameters: 4385920\n"
     ]
    }
   ],
   "source": [
    "#model_name = \"google/bert_uncased_L-2_H-128_A-2\"\n",
    "#model_name = \"google/bert_uncased_L-4_H-512_A-8\"#\n",
    "bert_tiny_model = load_and_setup_model(model_name=\"google/bert_uncased_L-2_H-128_A-2\")\n",
    "bert_tiny_params = sum(p.numel() for p in bert_tiny_model.parameters())\n",
    "print(f\"Model Layers: {bert_tiny_model.config.num_hidden_layers}\")\n",
    "print(f\"Hidden Size: {bert_tiny_model.config.hidden_size}\")\n",
    "print(f\"Number of Heads: {bert_tiny_model.config.num_attention_heads}\")\n",
    "print(f\"Parameters: {bert_tiny_params}\")"
   ]
  },
  {
   "cell_type": "code",
   "execution_count": 6,
   "metadata": {},
   "outputs": [
    {
     "name": "stdout",
     "output_type": "stream",
     "text": [
      "Model Layers: 4\n",
      "Hidden Size: 512\n",
      "Number of Heads: 8\n",
      "Parameters: 28763648\n",
      "Ratio of parameters between bert small and roberta tiny: 1.027921614549979\n"
     ]
    }
   ],
   "source": [
    "bert_small_model = load_and_setup_model(model_name=\"google/bert_uncased_L-4_H-512_A-8\")\n",
    "bert_small_params = sum(p.numel() for p in bert_small_model.parameters())\n",
    "print(f\"Model Layers: {bert_small_model.config.num_hidden_layers}\")\n",
    "print(f\"Hidden Size: {bert_small_model.config.hidden_size}\")\n",
    "print(f\"Number of Heads: {bert_small_model.config.num_attention_heads}\")\n",
    "print(f\"Parameters: {bert_small_params}\")\n",
    "print(f\"Ratio of parameters between bert small and roberta tiny: {bert_small_params/roberta_tiny_params}\")\n",
    "# print(bert_small_params/roberta_tiny_params)"
   ]
  },
  {
   "cell_type": "code",
   "execution_count": null,
   "metadata": {},
   "outputs": [],
   "source": []
  }
 ],
 "metadata": {
  "kernelspec": {
   "display_name": "adapter_env",
   "language": "python",
   "name": "python3"
  },
  "language_info": {
   "codemirror_mode": {
    "name": "ipython",
    "version": 3
   },
   "file_extension": ".py",
   "mimetype": "text/x-python",
   "name": "python",
   "nbconvert_exporter": "python",
   "pygments_lexer": "ipython3",
   "version": "3.9.15"
  }
 },
 "nbformat": 4,
 "nbformat_minor": 2
}
