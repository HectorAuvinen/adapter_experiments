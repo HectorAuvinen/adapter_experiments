{
 "cells": [
  {
   "cell_type": "code",
   "execution_count": null,
   "metadata": {},
   "outputs": [],
   "source": [
    "import matplotlib.pyplot as plt\n",
    "import pandas as pd\n",
    "import sys\n",
    "import os\n",
    "from pathlib import Path\n",
    "\n",
    "project_root = os.path.dirname(os.getcwd())\n",
    "sys.path.insert(0,project_root)\n",
    "\n",
    "from src.file_utils import *\n",
    "from src.plot_utils import *\n",
    "from src.constants import *\n",
    "from src.stats_utils import *"
   ]
  },
  {
   "cell_type": "code",
   "execution_count": null,
   "metadata": {},
   "outputs": [],
   "source": [
    "df = calculate_dataset_correlation(\"C:/Users/Hector Auvinen/Desktop/final_eval_compilation/fourth_experiments_two_datasets/8_datasets_pfeiffer\",DATASET_SIZES)\n",
    "df.style.hide()"
   ]
  },
  {
   "cell_type": "code",
   "execution_count": null,
   "metadata": {},
   "outputs": [],
   "source": [
    "plot_all_models(\"F:/jku/practical_work/after_5th_march/reruns/trainable_params\",suffix=\"Pfeiffer\")"
   ]
  },
  {
   "cell_type": "code",
   "execution_count": null,
   "metadata": {},
   "outputs": [],
   "source": [
    "plot_all_models(\"F:/jku/practical_work/after_5th_march/total_params\",suffix=\"Pfeiffer\")"
   ]
  },
  {
   "cell_type": "code",
   "execution_count": null,
   "metadata": {},
   "outputs": [],
   "source": [
    "plot_all_models(\"F:/jku/practical_work/after_5th_march/houlsby/trainable_params\",suffix=\"Houlsby\")"
   ]
  },
  {
   "cell_type": "code",
   "execution_count": null,
   "metadata": {},
   "outputs": [],
   "source": [
    "root_folder = Path(\"F:/jku/practical_work/after_5th_march/reruns/trainable_params\")  # Adjust this path\n",
    "#skip = \"bert-small-uncased\"\n",
    "skip = \"a\"\n",
    "marker=\"bert-tiny-uncased\"\n",
    "results = read_eval_results_2(root_folder,skip,two_datasets=True)\n",
    "#plot_line_results(results,hidden_sizes,marker)\n",
    "plot_line_results_grid(results,HIDDEN_SIZES,marker)"
   ]
  },
  {
   "cell_type": "code",
   "execution_count": null,
   "metadata": {},
   "outputs": [],
   "source": [
    "df = calculate_stats_from_path(\"F:/jku/practical_work/after_5th_march/reruns/trainable_params\")\n",
    "df.style.hide()"
   ]
  },
  {
   "cell_type": "code",
   "execution_count": null,
   "metadata": {},
   "outputs": [],
   "source": [
    "df_2 = calculate_anova_from_path(\"F:/jku/practical_work/after_5th_march/reruns/trainable_params\")\n",
    "df_2.style.hide()"
   ]
  },
  {
   "cell_type": "code",
   "execution_count": null,
   "metadata": {},
   "outputs": [],
   "source": [
    "root_folder = Path(\"F:/jku/practical_work/after_5th_march/total_params\")  # Adjust this path\n",
    "#skip = \"bert-small-uncased\"\n",
    "skip = \"a\"\n",
    "marker=\"bert-small-uncased\"\n",
    "results = read_eval_results_2(root_folder,skip,two_datasets=True)\n",
    "print(results)\n",
    "#plot_line_results(results,hidden_sizes,marker)\n",
    "plot_line_results_grid(results,HIDDEN_SIZES,marker)"
   ]
  },
  {
   "cell_type": "code",
   "execution_count": null,
   "metadata": {},
   "outputs": [],
   "source": [
    "df = calculate_stats_from_path(\"F:/jku/practical_work/after_5th_march/total_params\",skip=\"bert-tiny-uncased\")\n",
    "df.style.hide()"
   ]
  },
  {
   "cell_type": "code",
   "execution_count": null,
   "metadata": {},
   "outputs": [],
   "source": [
    "df_2 = calculate_anova_from_path(\"F:/jku/practical_work/after_5th_march/total_params\",skip=\"bert-tiny-uncased\")\n",
    "df_2.style.hide()"
   ]
  },
  {
   "cell_type": "code",
   "execution_count": null,
   "metadata": {},
   "outputs": [],
   "source": [
    "root_folder = Path(\"F:/jku/practical_work/after_5th_march/houlsby/trainable_params\")  # Adjust this path\n",
    "#skip = \"bert-small-uncased\"\n",
    "skip = \"a\"\n",
    "marker=\"bert-tiny-uncased\"\n",
    "results = read_eval_results_2(root_folder,skip)\n",
    "#plot_line_results(results,hidden_sizes,marker)\n",
    "plot_line_results_grid(results,HIDDEN_SIZES,marker)"
   ]
  },
  {
   "cell_type": "code",
   "execution_count": null,
   "metadata": {},
   "outputs": [],
   "source": [
    "df = calculate_stats_from_path(\"F:/jku/practical_work/after_5th_march/houlsby/trainable_params\")\n",
    "df.style.hide()"
   ]
  }
 ],
 "metadata": {
  "kernelspec": {
   "display_name": "adapter_env",
   "language": "python",
   "name": "python3"
  },
  "language_info": {
   "name": "python",
   "version": "3.9.15"
  }
 },
 "nbformat": 4,
 "nbformat_minor": 2
}
