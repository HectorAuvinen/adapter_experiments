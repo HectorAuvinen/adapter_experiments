{
 "cells": [
  {
   "cell_type": "code",
   "execution_count": 1,
   "metadata": {},
   "outputs": [
    {
     "name": "stderr",
     "output_type": "stream",
     "text": [
      "c:\\Users\\Hector Auvinen\\Documents\\GitHub\\adapter_experiments\\adapter_env\\lib\\site-packages\\tqdm\\auto.py:21: TqdmWarning: IProgress not found. Please update jupyter and ipywidgets. See https://ipywidgets.readthedocs.io/en/stable/user_install.html\n",
      "  from .autonotebook import tqdm as notebook_tqdm\n"
     ]
    }
   ],
   "source": [
    "import sys,os\n",
    "project_root = os.path.dirname(os.getcwd())\n",
    "sys.path.insert(0,project_root)\n",
    "\n",
    "from src.data_handling.load_data import *\n",
    "from src.data_handling.preprocessing import *\n",
    "from src.models.model_setup import *\n",
    "from src.trainer.training import *\n",
    "from src.trainer.file_utils import *\n",
    "from transformers import set_seed"
   ]
  },
  {
   "cell_type": "code",
   "execution_count": 2,
   "metadata": {},
   "outputs": [],
   "source": [
    "\n",
    "seed_value = 42\n",
    "set_seed(seed_value)\n",
    "\n",
    "# supported tasks:\n",
    "# commonsense_qa: csqa # should this be classification?\n",
    "# cosmos_qa: cosqa # should this be classification?\n",
    "# social_i_qa: sociqa\n",
    "# hellaswag: hswag\n",
    "# winogrande: wgrande\n"
   ]
  },
  {
   "cell_type": "code",
   "execution_count": 3,
   "metadata": {},
   "outputs": [],
   "source": [
    "task = \"cosmos_qa\"\n",
    "model_name = \"bert-base-uncased\"\n",
    "output_dir = \"C:/Users/Hector Auvinen/Desktop/eval_results\""
   ]
  },
  {
   "cell_type": "code",
   "execution_count": 4,
   "metadata": {},
   "outputs": [
    {
     "name": "stdout",
     "output_type": "stream",
     "text": [
      "using bert tokenizer\n",
      "getting encoding:\n",
      "<function encode_cosmosqa at 0x000001BC88F6DE50>\n"
     ]
    }
   ],
   "source": [
    "data = load_hf_dataset(task,debug=False)\n",
    "\n",
    "tokenizer = get_tokenizer(model_name)\n",
    "\n",
    "encode = get_encoding(task)"
   ]
  },
  {
   "cell_type": "code",
   "execution_count": 5,
   "metadata": {},
   "outputs": [
    {
     "name": "stdout",
     "output_type": "stream",
     "text": [
      "mapped\n",
      "{'train': ['id', 'context', 'question', 'answer0', 'answer1', 'answer2', 'answer3', 'label', 'input_ids', 'attention_mask'], 'test': ['id', 'context', 'question', 'answer0', 'answer1', 'answer2', 'answer3', 'label', 'input_ids', 'attention_mask'], 'validation': ['id', 'context', 'question', 'answer0', 'answer1', 'answer2', 'answer3', 'label', 'input_ids', 'attention_mask']}\n"
     ]
    }
   ],
   "source": [
    "dataset = preprocess_dataset(data,encode,tokenizer)"
   ]
  },
  {
   "cell_type": "code",
   "execution_count": 6,
   "metadata": {},
   "outputs": [
    {
     "name": "stdout",
     "output_type": "stream",
     "text": [
      "labels 4\n"
     ]
    },
    {
     "name": "stderr",
     "output_type": "stream",
     "text": [
      "Some weights of BertAdapterModel were not initialized from the model checkpoint at bert-base-uncased and are newly initialized: ['heads.default.3.bias']\n",
      "You should probably TRAIN this model on a down-stream task to be able to use it for predictions and inference.\n"
     ]
    },
    {
     "name": "stdout",
     "output_type": "stream",
     "text": [
      "2\n"
     ]
    }
   ],
   "source": [
    "num_labels = get_label_count(dataset)\n",
    "print(\"labels\",num_labels)\n",
    "model = setup_model(model_name,num_labels,dataset)\n",
    "\n",
    "adapter_config = adapters.BnConfig(\n",
    "                          output_adapter=True,\n",
    "                          mh_adapter=False,\n",
    "                          reduction_factor=2,\n",
    "                          non_linearity=\"relu\")\n",
    "\n",
    "model = add_mc_adapter(task_name=task,model=model,num_labels=num_labels,adapter_config=adapter_config)\n",
    "\n",
    "default_args = TrainingParameters(per_device_train_batch_size=2)\n",
    "default_args.lr_scheduler_type = \"linear\"\n",
    "#default_args.per_device_eval_batch_size = 4\n",
    "print(default_args.per_device_train_batch_size)"
   ]
  },
  {
   "cell_type": "code",
   "execution_count": 7,
   "metadata": {},
   "outputs": [
    {
     "name": "stderr",
     "output_type": "stream",
     "text": [
      "                                                      \n",
      "  0%|          | 50/378930 [05:52<49:22:05,  2.13it/s]"
     ]
    },
    {
     "name": "stdout",
     "output_type": "stream",
     "text": [
      "{'eval_loss': 1.352368950843811, 'eval_accuracy': 0.2984924623115578, 'eval_runtime': 326.7183, 'eval_samples_per_second': 9.136, 'eval_steps_per_second': 1.145, 'epoch': 0.0}\n"
     ]
    },
    {
     "name": "stderr",
     "output_type": "stream",
     "text": [
      "                                                         \n",
      "  0%|          | 100/378930 [11:43<48:45:07,  2.16it/s]"
     ]
    },
    {
     "name": "stdout",
     "output_type": "stream",
     "text": [
      "{'eval_loss': 1.463514804840088, 'eval_accuracy': 0.288107202680067, 'eval_runtime': 327.5285, 'eval_samples_per_second': 9.114, 'eval_steps_per_second': 1.142, 'epoch': 0.01}\n"
     ]
    },
    {
     "name": "stderr",
     "output_type": "stream",
     "text": [
      "                                                          \n",
      "  0%|          | 150/378930 [17:38<51:18:33,  2.05it/s]"
     ]
    },
    {
     "name": "stdout",
     "output_type": "stream",
     "text": [
      "{'eval_loss': 1.3584450483322144, 'eval_accuracy': 0.4, 'eval_runtime': 330.0259, 'eval_samples_per_second': 9.045, 'eval_steps_per_second': 1.133, 'epoch': 0.01}\n"
     ]
    },
    {
     "name": "stderr",
     "output_type": "stream",
     "text": [
      "  0%|          | 200/378930 [18:04<53:55:22,  1.95it/s]   "
     ]
    },
    {
     "name": "stdout",
     "output_type": "stream",
     "text": [
      "{'loss': 1.334, 'learning_rate': 9.994721980312986e-05, 'epoch': 0.02}\n"
     ]
    },
    {
     "name": "stderr",
     "output_type": "stream",
     "text": [
      "                                                       \n",
      "  0%|          | 200/378930 [23:54<53:55:22,  1.95it/s]"
     ]
    },
    {
     "name": "stdout",
     "output_type": "stream",
     "text": [
      "{'eval_loss': 1.3334050178527832, 'eval_accuracy': 0.36348408710217756, 'eval_runtime': 349.9309, 'eval_samples_per_second': 8.53, 'eval_steps_per_second': 1.069, 'epoch': 0.02}\n"
     ]
    },
    {
     "name": "stderr",
     "output_type": "stream",
     "text": [
      "                                                           \n",
      "  0%|          | 250/378930 [30:12<53:54:27,  1.95it/s]"
     ]
    },
    {
     "name": "stdout",
     "output_type": "stream",
     "text": [
      "{'eval_loss': 1.3308122158050537, 'eval_accuracy': 0.369179229480737, 'eval_runtime': 353.1215, 'eval_samples_per_second': 8.453, 'eval_steps_per_second': 1.059, 'epoch': 0.02}\n"
     ]
    },
    {
     "name": "stderr",
     "output_type": "stream",
     "text": [
      "                                                           \n",
      "  0%|          | 300/378930 [36:24<50:54:07,  2.07it/s]"
     ]
    },
    {
     "name": "stdout",
     "output_type": "stream",
     "text": [
      "{'eval_loss': 1.3247101306915283, 'eval_accuracy': 0.38994974874371857, 'eval_runtime': 346.6645, 'eval_samples_per_second': 8.611, 'eval_steps_per_second': 1.079, 'epoch': 0.02}\n"
     ]
    },
    {
     "name": "stderr",
     "output_type": "stream",
     "text": [
      "                                                           \n",
      "  0%|          | 350/378930 [42:12<47:13:46,  2.23it/s]"
     ]
    },
    {
     "name": "stdout",
     "output_type": "stream",
     "text": [
      "{'eval_loss': 1.4473755359649658, 'eval_accuracy': 0.3983249581239531, 'eval_runtime': 324.3762, 'eval_samples_per_second': 9.202, 'eval_steps_per_second': 1.153, 'epoch': 0.03}\n"
     ]
    },
    {
     "name": "stderr",
     "output_type": "stream",
     "text": [
      "  0%|          | 400/378930 [42:35<46:25:00,  2.27it/s]   "
     ]
    },
    {
     "name": "stdout",
     "output_type": "stream",
     "text": [
      "{'loss': 1.3382, 'learning_rate': 9.989443960625974e-05, 'epoch': 0.03}\n"
     ]
    },
    {
     "name": "stderr",
     "output_type": "stream",
     "text": [
      "                                                       \n",
      "  0%|          | 400/378930 [48:12<46:25:00,  2.27it/s]"
     ]
    },
    {
     "name": "stdout",
     "output_type": "stream",
     "text": [
      "{'eval_loss': 1.3177709579467773, 'eval_accuracy': 0.40234505862646563, 'eval_runtime': 336.744, 'eval_samples_per_second': 8.864, 'eval_steps_per_second': 1.111, 'epoch': 0.03}\n"
     ]
    },
    {
     "name": "stderr",
     "output_type": "stream",
     "text": [
      "                                                           \n",
      "  0%|          | 450/378930 [54:01<49:07:22,  2.14it/s]"
     ]
    },
    {
     "name": "stdout",
     "output_type": "stream",
     "text": [
      "{'eval_loss': 1.336806058883667, 'eval_accuracy': 0.3782244556113903, 'eval_runtime': 325.5133, 'eval_samples_per_second': 9.17, 'eval_steps_per_second': 1.149, 'epoch': 0.04}\n"
     ]
    },
    {
     "name": "stderr",
     "output_type": "stream",
     "text": [
      "                                                          \n",
      "  0%|          | 500/378930 [1:00:07<49:35:13,  2.12it/s]"
     ]
    },
    {
     "name": "stdout",
     "output_type": "stream",
     "text": [
      "{'eval_loss': 1.4373606443405151, 'eval_accuracy': 0.37420435510887773, 'eval_runtime': 340.6489, 'eval_samples_per_second': 8.763, 'eval_steps_per_second': 1.098, 'epoch': 0.04}\n"
     ]
    },
    {
     "name": "stderr",
     "output_type": "stream",
     "text": [
      "                                                             \n",
      "  0%|          | 550/378930 [1:06:05<47:49:27,  2.20it/s]"
     ]
    },
    {
     "name": "stdout",
     "output_type": "stream",
     "text": [
      "{'eval_loss': 1.327418327331543, 'eval_accuracy': 0.3932998324958124, 'eval_runtime': 335.4891, 'eval_samples_per_second': 8.897, 'eval_steps_per_second': 1.115, 'epoch': 0.04}\n"
     ]
    },
    {
     "name": "stderr",
     "output_type": "stream",
     "text": [
      "  0%|          | 600/378930 [1:06:28<47:07:50,  2.23it/s]    "
     ]
    },
    {
     "name": "stdout",
     "output_type": "stream",
     "text": [
      "{'loss': 1.2861, 'learning_rate': 9.98416594093896e-05, 'epoch': 0.05}\n"
     ]
    },
    {
     "name": "stderr",
     "output_type": "stream",
     "text": [
      "                                                         \n",
      "  0%|          | 600/378930 [1:11:56<47:07:50,  2.23it/s]"
     ]
    },
    {
     "name": "stdout",
     "output_type": "stream",
     "text": [
      "{'eval_loss': 1.5136319398880005, 'eval_accuracy': 0.3963149078726968, 'eval_runtime': 327.9287, 'eval_samples_per_second': 9.103, 'eval_steps_per_second': 1.14, 'epoch': 0.05}\n"
     ]
    },
    {
     "name": "stderr",
     "output_type": "stream",
     "text": [
      "  0%|          | 650/378930 [1:17:47<52:32:42,  2.00it/s]   "
     ]
    },
    {
     "name": "stdout",
     "output_type": "stream",
     "text": [
      "{'eval_loss': 1.315688967704773, 'eval_accuracy': 0.42780569514237854, 'eval_runtime': 326.6201, 'eval_samples_per_second': 9.139, 'eval_steps_per_second': 1.145, 'epoch': 0.05}\n"
     ]
    },
    {
     "name": "stderr",
     "output_type": "stream",
     "text": [
      "                                                            \n",
      "  0%|          | 700/378930 [1:23:49<48:49:17,  2.15it/s]"
     ]
    },
    {
     "name": "stdout",
     "output_type": "stream",
     "text": [
      "{'eval_loss': 1.2492541074752808, 'eval_accuracy': 0.4358458961474037, 'eval_runtime': 336.4331, 'eval_samples_per_second': 8.872, 'eval_steps_per_second': 1.112, 'epoch': 0.06}\n"
     ]
    },
    {
     "name": "stderr",
     "output_type": "stream",
     "text": [
      "                                                             \n",
      "  0%|          | 750/378930 [1:29:44<50:24:40,  2.08it/s]"
     ]
    },
    {
     "name": "stdout",
     "output_type": "stream",
     "text": [
      "{'eval_loss': 1.2685706615447998, 'eval_accuracy': 0.4485762144053601, 'eval_runtime': 331.9265, 'eval_samples_per_second': 8.993, 'eval_steps_per_second': 1.127, 'epoch': 0.06}\n"
     ]
    },
    {
     "name": "stderr",
     "output_type": "stream",
     "text": [
      "  0%|          | 800/378930 [1:30:06<48:20:48,  2.17it/s]    "
     ]
    },
    {
     "name": "stdout",
     "output_type": "stream",
     "text": [
      "{'loss': 1.3461, 'learning_rate': 9.978887921251947e-05, 'epoch': 0.06}\n"
     ]
    },
    {
     "name": "stderr",
     "output_type": "stream",
     "text": [
      "                                                         \n",
      "  0%|          | 800/378930 [1:35:42<48:20:48,  2.17it/s]"
     ]
    },
    {
     "name": "stdout",
     "output_type": "stream",
     "text": [
      "{'eval_loss': 1.3119940757751465, 'eval_accuracy': 0.4539363484087102, 'eval_runtime': 335.5371, 'eval_samples_per_second': 8.896, 'eval_steps_per_second': 1.115, 'epoch': 0.06}\n"
     ]
    },
    {
     "name": "stderr",
     "output_type": "stream",
     "text": [
      "                                                             \n",
      "  0%|          | 850/378930 [1:41:30<52:00:31,  2.02it/s]"
     ]
    },
    {
     "name": "stdout",
     "output_type": "stream",
     "text": [
      "{'eval_loss': 1.2485034465789795, 'eval_accuracy': 0.44991624790619766, 'eval_runtime': 323.8164, 'eval_samples_per_second': 9.218, 'eval_steps_per_second': 1.155, 'epoch': 0.07}\n"
     ]
    },
    {
     "name": "stderr",
     "output_type": "stream",
     "text": [
      "                                                            \n",
      "  0%|          | 900/378930 [1:47:33<50:22:18,  2.08it/s]"
     ]
    },
    {
     "name": "stdout",
     "output_type": "stream",
     "text": [
      "{'eval_loss': 1.2359603643417358, 'eval_accuracy': 0.45896147403685095, 'eval_runtime': 339.6365, 'eval_samples_per_second': 8.789, 'eval_steps_per_second': 1.101, 'epoch': 0.07}\n"
     ]
    },
    {
     "name": "stderr",
     "output_type": "stream",
     "text": [
      "                                                             \n",
      "  0%|          | 950/378930 [1:53:37<55:28:28,  1.89it/s]"
     ]
    },
    {
     "name": "stdout",
     "output_type": "stream",
     "text": [
      "{'eval_loss': 1.2446600198745728, 'eval_accuracy': 0.47537688442211057, 'eval_runtime': 339.7616, 'eval_samples_per_second': 8.786, 'eval_steps_per_second': 1.101, 'epoch': 0.08}\n"
     ]
    },
    {
     "name": "stderr",
     "output_type": "stream",
     "text": [
      "  0%|          | 1000/378930 [1:54:02<49:14:31,  2.13it/s]   "
     ]
    },
    {
     "name": "stdout",
     "output_type": "stream",
     "text": [
      "{'loss': 1.3229, 'learning_rate': 9.973609901564933e-05, 'epoch': 0.08}\n"
     ]
    },
    {
     "name": "stderr",
     "output_type": "stream",
     "text": [
      "                                                          \n",
      "  0%|          | 1000/378930 [1:59:49<49:14:31,  2.13it/s]"
     ]
    },
    {
     "name": "stdout",
     "output_type": "stream",
     "text": [
      "{'eval_loss': 1.2569043636322021, 'eval_accuracy': 0.46968174204355106, 'eval_runtime': 347.0325, 'eval_samples_per_second': 8.601, 'eval_steps_per_second': 1.078, 'epoch': 0.08}\n"
     ]
    },
    {
     "name": "stderr",
     "output_type": "stream",
     "text": [
      "                                                              \n",
      "  0%|          | 1050/378930 [2:05:54<51:16:21,  2.05it/s]"
     ]
    },
    {
     "name": "stdout",
     "output_type": "stream",
     "text": [
      "{'eval_loss': 1.2503336668014526, 'eval_accuracy': 0.46164154103852595, 'eval_runtime': 339.7044, 'eval_samples_per_second': 8.787, 'eval_steps_per_second': 1.101, 'epoch': 0.08}\n"
     ]
    },
    {
     "name": "stderr",
     "output_type": "stream",
     "text": [
      "                                                              \n",
      "  0%|          | 1100/378930 [2:11:44<47:25:58,  2.21it/s]"
     ]
    },
    {
     "name": "stdout",
     "output_type": "stream",
     "text": [
      "{'eval_loss': 1.2766929864883423, 'eval_accuracy': 0.46968174204355106, 'eval_runtime': 326.8544, 'eval_samples_per_second': 9.133, 'eval_steps_per_second': 1.144, 'epoch': 0.09}\n"
     ]
    },
    {
     "name": "stderr",
     "output_type": "stream",
     "text": [
      "                                                             \n",
      "  0%|          | 1150/378930 [2:17:35<753:18:09,  7.18s/it]"
     ]
    },
    {
     "name": "stdout",
     "output_type": "stream",
     "text": [
      "{'eval_loss': 1.2511285543441772, 'eval_accuracy': 0.46164154103852595, 'eval_runtime': 326.8384, 'eval_samples_per_second': 9.133, 'eval_steps_per_second': 1.144, 'epoch': 0.09}\n",
      "{'train_runtime': 8255.2616, 'train_samples_per_second': 91.803, 'train_steps_per_second': 45.902, 'train_loss': 1.3221454255477243, 'epoch': 0.09}\n"
     ]
    },
    {
     "name": "stderr",
     "output_type": "stream",
     "text": [
      "\n"
     ]
    },
    {
     "data": {
      "text/plain": [
       "TrainOutput(global_step=1150, training_loss=1.3221454255477243, metrics={'train_runtime': 8255.2616, 'train_samples_per_second': 91.803, 'train_steps_per_second': 45.902, 'train_loss': 1.3221454255477243, 'epoch': 0.09})"
      ]
     },
     "execution_count": 7,
     "metadata": {},
     "output_type": "execute_result"
    }
   ],
   "source": [
    "train_args = get_training_arguments(default_args)\n",
    "\n",
    "trainer = get_trainer(train_args,dataset,model,early_stopping=3)\n",
    "\n",
    "trainer.train()"
   ]
  },
  {
   "cell_type": "code",
   "execution_count": 8,
   "metadata": {},
   "outputs": [
    {
     "name": "stderr",
     "output_type": "stream",
     "text": [
      "100%|██████████| 374/374 [05:40<00:00,  1.10it/s]\n"
     ]
    }
   ],
   "source": [
    "eval_results = trainer.evaluate()"
   ]
  },
  {
   "cell_type": "code",
   "execution_count": 9,
   "metadata": {},
   "outputs": [
    {
     "name": "stdout",
     "output_type": "stream",
     "text": [
      "Writing eval results\n",
      "{'eval_loss': 1.2569043636322021, 'eval_accuracy': 0.46968174204355106, 'eval_runtime': 341.0548, 'eval_samples_per_second': 8.752, 'eval_steps_per_second': 1.097, 'epoch': 0.09}\n"
     ]
    }
   ],
   "source": [
    "write_eval_results(eval_results,output_dir,task,trainer,adapter_config)"
   ]
  },
  {
   "cell_type": "code",
   "execution_count": null,
   "metadata": {},
   "outputs": [],
   "source": []
  }
 ],
 "metadata": {
  "kernelspec": {
   "display_name": "adapter_env",
   "language": "python",
   "name": "python3"
  },
  "language_info": {
   "codemirror_mode": {
    "name": "ipython",
    "version": 3
   },
   "file_extension": ".py",
   "mimetype": "text/x-python",
   "name": "python",
   "nbconvert_exporter": "python",
   "pygments_lexer": "ipython3",
   "version": "3.9.15"
  }
 },
 "nbformat": 4,
 "nbformat_minor": 2
}
