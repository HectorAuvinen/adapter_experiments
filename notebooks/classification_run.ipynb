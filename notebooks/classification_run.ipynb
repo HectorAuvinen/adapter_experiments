{
 "cells": [
  {
   "cell_type": "code",
   "execution_count": 1,
   "metadata": {},
   "outputs": [
    {
     "name": "stderr",
     "output_type": "stream",
     "text": [
      "c:\\Users\\Hector Auvinen\\Documents\\GitHub\\adapter_experiments\\adapter_env\\lib\\site-packages\\tqdm\\auto.py:21: TqdmWarning: IProgress not found. Please update jupyter and ipywidgets. See https://ipywidgets.readthedocs.io/en/stable/user_install.html\n",
      "  from .autonotebook import tqdm as notebook_tqdm\n"
     ]
    }
   ],
   "source": [
    "import sys,os\n",
    "project_root = os.path.dirname(os.getcwd())\n",
    "sys.path.insert(0,project_root)\n",
    "\n",
    "from src.data_handling.load_data import *\n",
    "from src.data_handling.preprocessing import *\n",
    "from src.models.model_setup import *\n",
    "from src.trainer.training import *\n",
    "from src.trainer.file_utils import *"
   ]
  },
  {
   "cell_type": "code",
   "execution_count": 2,
   "metadata": {},
   "outputs": [],
   "source": [
    "task = \"sst2\"\n",
    "model_name = \"bert-base-uncased\"\n",
    "num_labels = 2\n",
    "output_dir = \"C:/Users/Hector Auvinen/Desktop/eval_results\""
   ]
  },
  {
   "cell_type": "code",
   "execution_count": 3,
   "metadata": {},
   "outputs": [
    {
     "name": "stderr",
     "output_type": "stream",
     "text": [
      "Using the latest cached version of the dataset since glue couldn't be found on the Hugging Face Hub\n",
      "Found the latest cached dataset configuration 'sst2' at C:\\Users\\Hector Auvinen\\.cache\\huggingface\\datasets\\glue\\sst2\\0.0.0\\bcdcba79d07bc864c1c254ccfcedcce55bcc9a8c (last modified on Thu Feb  1 17:17:12 2024).\n"
     ]
    },
    {
     "name": "stdout",
     "output_type": "stream",
     "text": [
      "using bert tokenizer\n",
      "getting encoding:\n",
      "<function encode_sst2 at 0x000001CBCB3B0160>\n"
     ]
    }
   ],
   "source": [
    "data = load_hf_dataset(task,debug=False)\n",
    "\n",
    "tokenizer = get_tokenizer(model_name)\n",
    "\n",
    "encode = get_encoding(task)"
   ]
  },
  {
   "cell_type": "code",
   "execution_count": 4,
   "metadata": {},
   "outputs": [
    {
     "name": "stdout",
     "output_type": "stream",
     "text": [
      "mapped\n",
      "{'train': ['sentence', 'label', 'idx', 'input_ids', 'token_type_ids', 'attention_mask'], 'validation': ['sentence', 'label', 'idx', 'input_ids', 'token_type_ids', 'attention_mask'], 'test': ['sentence', 'label', 'idx', 'input_ids', 'token_type_ids', 'attention_mask']}\n"
     ]
    }
   ],
   "source": [
    "#def preprocess_dataset(dataset,encoding_func,tokenizer):\n",
    "dataset = preprocess_dataset(data,encode,tokenizer)"
   ]
  },
  {
   "cell_type": "code",
   "execution_count": 6,
   "metadata": {},
   "outputs": [
    {
     "name": "stderr",
     "output_type": "stream",
     "text": [
      "Some weights of BertAdapterModel were not initialized from the model checkpoint at bert-base-uncased and are newly initialized: ['heads.default.3.bias']\n",
      "You should probably TRAIN this model on a down-stream task to be able to use it for predictions and inference.\n"
     ]
    }
   ],
   "source": [
    "model = setup_model(model_name,num_labels)\n",
    "\n",
    "adapter_config = adapters.BnConfig(\n",
    "                          output_adapter=True,\n",
    "                          mh_adapter=False,\n",
    "                          reduction_factor=2,\n",
    "                          non_linearity=\"relu\")\n",
    "\n",
    "model = add_clf_adapter(task_name=task,model=model,num_labels=num_labels,adapter_config=adapter_config)\n",
    "\n",
    "default_args = TrainingParameters()\n",
    "default_args.lr_scheduler_type = \"linear\"\n"
   ]
  },
  {
   "cell_type": "code",
   "execution_count": null,
   "metadata": {},
   "outputs": [
    {
     "name": "stderr",
     "output_type": "stream",
     "text": [
      "                                                 \n",
      "  1%|          | 50/8419 [00:22<29:31,  4.72it/s]"
     ]
    },
    {
     "name": "stdout",
     "output_type": "stream",
     "text": [
      "{'eval_loss': 0.5497307181358337, 'eval_accuracy': 0.694954128440367, 'eval_runtime': 12.0503, 'eval_samples_per_second': 72.363, 'eval_steps_per_second': 9.045, 'epoch': 0.01}\n"
     ]
    },
    {
     "name": "stderr",
     "output_type": "stream",
     "text": [
      "                                                   \n",
      "  1%|          | 100/8419 [00:48<35:15,  3.93it/s]"
     ]
    },
    {
     "name": "stdout",
     "output_type": "stream",
     "text": [
      "{'eval_loss': 0.39171481132507324, 'eval_accuracy': 0.8532110091743119, 'eval_runtime': 13.2594, 'eval_samples_per_second': 65.765, 'eval_steps_per_second': 8.221, 'epoch': 0.01}\n"
     ]
    },
    {
     "name": "stderr",
     "output_type": "stream",
     "text": [
      "                                                    \n",
      "  2%|▏         | 150/8419 [01:12<32:08,  4.29it/s]"
     ]
    },
    {
     "name": "stdout",
     "output_type": "stream",
     "text": [
      "{'eval_loss': 0.3280419111251831, 'eval_accuracy': 0.8692660550458715, 'eval_runtime': 12.8257, 'eval_samples_per_second': 67.989, 'eval_steps_per_second': 8.499, 'epoch': 0.02}\n"
     ]
    },
    {
     "name": "stderr",
     "output_type": "stream",
     "text": [
      "  2%|▏         | 200/8419 [01:25<37:55,  3.61it/s]  "
     ]
    },
    {
     "name": "stdout",
     "output_type": "stream",
     "text": [
      "{'loss': 0.4596, 'learning_rate': 9.76244209526072e-05, 'epoch': 0.02}\n"
     ]
    },
    {
     "name": "stderr",
     "output_type": "stream",
     "text": [
      "                                                  \n",
      "  2%|▏         | 200/8419 [01:38<37:55,  3.61it/s]"
     ]
    },
    {
     "name": "stdout",
     "output_type": "stream",
     "text": [
      "{'eval_loss': 0.3198995292186737, 'eval_accuracy': 0.8543577981651376, 'eval_runtime': 13.0404, 'eval_samples_per_second': 66.869, 'eval_steps_per_second': 8.359, 'epoch': 0.02}\n"
     ]
    },
    {
     "name": "stderr",
     "output_type": "stream",
     "text": [
      "                                                    \n",
      "  3%|▎         | 250/8419 [02:03<32:46,  4.15it/s]"
     ]
    },
    {
     "name": "stdout",
     "output_type": "stream",
     "text": [
      "{'eval_loss': 0.29454949498176575, 'eval_accuracy': 0.8738532110091743, 'eval_runtime': 12.8294, 'eval_samples_per_second': 67.969, 'eval_steps_per_second': 8.496, 'epoch': 0.03}\n"
     ]
    },
    {
     "name": "stderr",
     "output_type": "stream",
     "text": [
      "                                                    \n",
      "  4%|▎         | 300/8419 [02:28<32:45,  4.13it/s]"
     ]
    },
    {
     "name": "stdout",
     "output_type": "stream",
     "text": [
      "{'eval_loss': 0.4494825601577759, 'eval_accuracy': 0.8268348623853211, 'eval_runtime': 12.6232, 'eval_samples_per_second': 69.079, 'eval_steps_per_second': 8.635, 'epoch': 0.04}\n"
     ]
    },
    {
     "name": "stderr",
     "output_type": "stream",
     "text": [
      "                                                    \n",
      "  4%|▍         | 350/8419 [02:53<33:06,  4.06it/s]"
     ]
    },
    {
     "name": "stdout",
     "output_type": "stream",
     "text": [
      "{'eval_loss': 0.26606428623199463, 'eval_accuracy': 0.8956422018348624, 'eval_runtime': 12.7026, 'eval_samples_per_second': 68.648, 'eval_steps_per_second': 8.581, 'epoch': 0.04}\n"
     ]
    },
    {
     "name": "stderr",
     "output_type": "stream",
     "text": [
      "  5%|▍         | 400/8419 [03:04<30:45,  4.35it/s]  "
     ]
    },
    {
     "name": "stdout",
     "output_type": "stream",
     "text": [
      "{'loss': 0.3501, 'learning_rate': 9.52488419052144e-05, 'epoch': 0.05}\n"
     ]
    },
    {
     "name": "stderr",
     "output_type": "stream",
     "text": [
      "                                                  \n",
      "  5%|▍         | 400/8419 [03:17<30:45,  4.35it/s]"
     ]
    },
    {
     "name": "stdout",
     "output_type": "stream",
     "text": [
      "{'eval_loss': 0.26729920506477356, 'eval_accuracy': 0.8910550458715596, 'eval_runtime': 13.094, 'eval_samples_per_second': 66.595, 'eval_steps_per_second': 8.324, 'epoch': 0.05}\n"
     ]
    },
    {
     "name": "stderr",
     "output_type": "stream",
     "text": [
      "                                                    \n",
      "  5%|▌         | 450/8419 [03:43<32:14,  4.12it/s]"
     ]
    },
    {
     "name": "stdout",
     "output_type": "stream",
     "text": [
      "{'eval_loss': 0.26491859555244446, 'eval_accuracy': 0.8990825688073395, 'eval_runtime': 13.2537, 'eval_samples_per_second': 65.793, 'eval_steps_per_second': 8.224, 'epoch': 0.05}\n"
     ]
    },
    {
     "name": "stderr",
     "output_type": "stream",
     "text": [
      "                                                    \n",
      "  6%|▌         | 500/8419 [04:07<31:57,  4.13it/s]"
     ]
    },
    {
     "name": "stdout",
     "output_type": "stream",
     "text": [
      "{'eval_loss': 0.26339229941368103, 'eval_accuracy': 0.9002293577981652, 'eval_runtime': 12.6947, 'eval_samples_per_second': 68.69, 'eval_steps_per_second': 8.586, 'epoch': 0.06}\n"
     ]
    },
    {
     "name": "stderr",
     "output_type": "stream",
     "text": [
      "                                                    \n",
      "  7%|▋         | 550/8419 [04:32<32:02,  4.09it/s]"
     ]
    },
    {
     "name": "stdout",
     "output_type": "stream",
     "text": [
      "{'eval_loss': 0.25078245997428894, 'eval_accuracy': 0.9059633027522935, 'eval_runtime': 13.0161, 'eval_samples_per_second': 66.994, 'eval_steps_per_second': 8.374, 'epoch': 0.07}\n"
     ]
    },
    {
     "name": "stderr",
     "output_type": "stream",
     "text": [
      "  7%|▋         | 600/8419 [04:45<33:02,  3.94it/s]  "
     ]
    },
    {
     "name": "stdout",
     "output_type": "stream",
     "text": [
      "{'loss': 0.3443, 'learning_rate': 9.28732628578216e-05, 'epoch': 0.07}\n"
     ]
    },
    {
     "name": "stderr",
     "output_type": "stream",
     "text": [
      "                                                  \n",
      "  7%|▋         | 600/8419 [04:59<33:02,  3.94it/s]"
     ]
    },
    {
     "name": "stdout",
     "output_type": "stream",
     "text": [
      "{'eval_loss': 0.33263230323791504, 'eval_accuracy': 0.8669724770642202, 'eval_runtime': 13.4803, 'eval_samples_per_second': 64.687, 'eval_steps_per_second': 8.086, 'epoch': 0.07}\n"
     ]
    },
    {
     "name": "stderr",
     "output_type": "stream",
     "text": [
      "                                                    \n",
      "  8%|▊         | 650/8419 [05:25<33:28,  3.87it/s]"
     ]
    },
    {
     "name": "stdout",
     "output_type": "stream",
     "text": [
      "{'eval_loss': 0.3170725405216217, 'eval_accuracy': 0.8772935779816514, 'eval_runtime': 13.7723, 'eval_samples_per_second': 63.316, 'eval_steps_per_second': 7.914, 'epoch': 0.08}\n"
     ]
    },
    {
     "name": "stderr",
     "output_type": "stream",
     "text": [
      "                                                    \n",
      "  8%|▊         | 700/8419 [05:52<33:46,  3.81it/s]"
     ]
    },
    {
     "name": "stdout",
     "output_type": "stream",
     "text": [
      "{'eval_loss': 0.26197558641433716, 'eval_accuracy': 0.8944954128440367, 'eval_runtime': 14.1168, 'eval_samples_per_second': 61.77, 'eval_steps_per_second': 7.721, 'epoch': 0.08}\n"
     ]
    },
    {
     "name": "stderr",
     "output_type": "stream",
     "text": [
      "                                                    \n",
      "  9%|▉         | 750/8419 [06:16<31:30,  4.06it/s]"
     ]
    },
    {
     "name": "stdout",
     "output_type": "stream",
     "text": [
      "{'eval_loss': 0.2661172151565552, 'eval_accuracy': 0.8979357798165137, 'eval_runtime': 12.2229, 'eval_samples_per_second': 71.341, 'eval_steps_per_second': 8.918, 'epoch': 0.09}\n"
     ]
    },
    {
     "name": "stderr",
     "output_type": "stream",
     "text": [
      "  9%|▉         | 750/8419 [06:16<1:04:11,  1.99it/s]"
     ]
    },
    {
     "name": "stdout",
     "output_type": "stream",
     "text": [
      "{'train_runtime': 376.6543, 'train_samples_per_second': 178.809, 'train_steps_per_second': 22.352, 'train_loss': 0.3673608093261719, 'epoch': 0.09}\n"
     ]
    },
    {
     "name": "stderr",
     "output_type": "stream",
     "text": [
      "\n"
     ]
    },
    {
     "data": {
      "text/plain": [
       "TrainOutput(global_step=750, training_loss=0.3673608093261719, metrics={'train_runtime': 376.6543, 'train_samples_per_second': 178.809, 'train_steps_per_second': 22.352, 'train_loss': 0.3673608093261719, 'epoch': 0.09})"
      ]
     },
     "execution_count": 10,
     "metadata": {},
     "output_type": "execute_result"
    }
   ],
   "source": [
    "train_args = get_training_arguments(default_args)\n",
    "\n",
    "trainer = get_trainer(train_args,dataset,model,early_stopping=3)\n",
    "\n",
    "trainer.train()"
   ]
  },
  {
   "cell_type": "code",
   "execution_count": 7,
   "metadata": {},
   "outputs": [
    {
     "name": "stderr",
     "output_type": "stream",
     "text": [
      "100%|██████████| 109/109 [00:11<00:00,  9.62it/s]\n"
     ]
    }
   ],
   "source": [
    "eval_results = trainer.evaluate()"
   ]
  },
  {
   "cell_type": "code",
   "execution_count": 8,
   "metadata": {},
   "outputs": [
    {
     "name": "stdout",
     "output_type": "stream",
     "text": [
      "Writing eval results\n",
      "{'eval_loss': 0.2526504099369049, 'eval_accuracy': 0.8990825688073395, 'eval_runtime': 11.4522, 'eval_samples_per_second': 76.143, 'eval_steps_per_second': 9.518, 'epoch': 0.08}\n"
     ]
    }
   ],
   "source": [
    "write_eval_results(eval_results,output_dir,task,trainer,adapter_config)"
   ]
  },
  {
   "cell_type": "code",
   "execution_count": null,
   "metadata": {},
   "outputs": [],
   "source": []
  },
  {
   "cell_type": "code",
   "execution_count": 6,
   "metadata": {},
   "outputs": [
    {
     "data": {
      "text/plain": [
       "'for attr_name, attr_value in vars(default_args).items():\\n    print(f\"{attr_name}: {attr_value}\")'"
      ]
     },
     "execution_count": 6,
     "metadata": {},
     "output_type": "execute_result"
    }
   ],
   "source": [
    "\"\"\"for attr_name, attr_value in vars(default_args).items():\n",
    "    print(f\"{attr_name}: {attr_value}\")\"\"\"\n",
    "\"\"\"\n",
    "    train_args = {\"label_names\":[\"labels\"],\n",
    "    \"evaluation_strategy\":\"steps\",\n",
    "    \"learning_rate\":1e-4,\n",
    "    \"num_train_epochs\":1,\n",
    "    \"per_device_train_batch_size\":8,\n",
    "    \"per_device_eval_batch_size\":8,\n",
    "    \"eval_steps\":50,\n",
    "    \"logging_steps\":200,\n",
    "    \"output_dir\":\"/eval_results\",\n",
    "    \"overwrite_output_dir\":True,\n",
    "    \"remove_unused_columns\":False,\n",
    "    \"lr_scheduler_type\":'linear',\n",
    "    \"load_best_model_at_end\":True,\n",
    "    \"metric_for_best_model\" : \"accuracy\",\n",
    "    \"early_stopping_patience\":3,\n",
    "    \"save_total_limit\":5\n",
    "}\n",
    "\"\"\""
   ]
  }
 ],
 "metadata": {
  "kernelspec": {
   "display_name": "adapter_env",
   "language": "python",
   "name": "python3"
  },
  "language_info": {
   "codemirror_mode": {
    "name": "ipython",
    "version": 3
   },
   "file_extension": ".py",
   "mimetype": "text/x-python",
   "name": "python",
   "nbconvert_exporter": "python",
   "pygments_lexer": "ipython3",
   "version": "3.9.15"
  }
 },
 "nbformat": 4,
 "nbformat_minor": 2
}
