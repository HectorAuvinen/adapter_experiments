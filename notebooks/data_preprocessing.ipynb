{
 "cells": [
  {
   "cell_type": "markdown",
   "metadata": {},
   "source": [
    "# This notebook reads all the datasets from Huggingface and writes them to disk"
   ]
  },
  {
   "cell_type": "code",
   "execution_count": 1,
   "metadata": {},
   "outputs": [
    {
     "name": "stderr",
     "output_type": "stream",
     "text": [
      "c:\\Users\\Hector Auvinen\\Documents\\GitHub\\adapter_experiments\\adapter_env\\lib\\site-packages\\tqdm\\auto.py:21: TqdmWarning: IProgress not found. Please update jupyter and ipywidgets. See https://ipywidgets.readthedocs.io/en/stable/user_install.html\n",
      "  from .autonotebook import tqdm as notebook_tqdm\n"
     ]
    }
   ],
   "source": [
    "from datasets import Dataset,DatasetDict\n",
    "import os\n",
    "import pandas as pd\n",
    "import csv\n",
    "\n",
    "import sys,os\n",
    "import json\n",
    "project_root = os.path.dirname(os.getcwd())\n",
    "sys.path.insert(0,project_root)\n",
    "\n",
    "from src.load_data import *\n",
    "from src.preprocessing import *\n",
    "from src.model_setup import *\n",
    "from src.training import *\n",
    "from src.file_utils import *\n",
    "from src.constants import *\n",
    "from transformers import set_seed"
   ]
  },
  {
   "cell_type": "code",
   "execution_count": 2,
   "metadata": {},
   "outputs": [
    {
     "name": "stdout",
     "output_type": "stream",
     "text": [
      "['cb', 'rte', 'sick', 'mrpc', 'boolq', 'commonsense_qa', 'argument', 'scitail', 'cosmos_qa', 'social_i_qa', 'hellaswag', 'imdb', 'winogrande', 'sst2', 'qqp', 'mnli']\n",
      "['cb', 'rte', 'sick', 'mrpc', 'boolq', 'commonsense_qa', 'scitail', 'cosmos_qa', 'social_i_qa', 'hellaswag', 'imdb', 'winogrande', 'sst2', 'qqp', 'mnli']\n"
     ]
    }
   ],
   "source": [
    "tasks = ALL_TASKS\n",
    "print(tasks)\n",
    "tasks.remove(\"argument\")\n",
    "print(tasks)\n"
   ]
  },
  {
   "cell_type": "code",
   "execution_count": 3,
   "metadata": {},
   "outputs": [
    {
     "name": "stdout",
     "output_type": "stream",
     "text": [
      "cb\n",
      "cb samples: 250\n"
     ]
    },
    {
     "name": "stderr",
     "output_type": "stream",
     "text": [
      "Saving the dataset (1/1 shards): 100%|██████████| 250/250 [00:00<00:00, 10362.34 examples/s]\n",
      "Saving the dataset (1/1 shards): 100%|██████████| 56/56 [00:00<00:00, 6199.02 examples/s]\n",
      "Saving the dataset (1/1 shards): 100%|██████████| 250/250 [00:00<00:00, 2626.61 examples/s]"
     ]
    },
    {
     "name": "stdout",
     "output_type": "stream",
     "text": [
      "rte\n"
     ]
    },
    {
     "name": "stderr",
     "output_type": "stream",
     "text": [
      "\n"
     ]
    },
    {
     "name": "stdout",
     "output_type": "stream",
     "text": [
      "rte samples: 2490\n"
     ]
    },
    {
     "name": "stderr",
     "output_type": "stream",
     "text": [
      "Saving the dataset (1/1 shards): 100%|██████████| 2490/2490 [00:00<?, ? examples/s]\n",
      "Saving the dataset (1/1 shards): 100%|██████████| 277/277 [00:00<?, ? examples/s]\n",
      "Saving the dataset (1/1 shards): 100%|██████████| 3000/3000 [00:00<00:00, 300832.29 examples/s]"
     ]
    },
    {
     "name": "stdout",
     "output_type": "stream",
     "text": [
      "sick\n"
     ]
    },
    {
     "name": "stderr",
     "output_type": "stream",
     "text": [
      "\n"
     ]
    },
    {
     "name": "stdout",
     "output_type": "stream",
     "text": [
      "sick samples: 4439\n"
     ]
    },
    {
     "name": "stderr",
     "output_type": "stream",
     "text": [
      "Saving the dataset (1/1 shards): 100%|██████████| 4439/4439 [00:00<00:00, 284161.04 examples/s]\n",
      "Saving the dataset (1/1 shards): 100%|██████████| 495/495 [00:00<00:00, 65184.15 examples/s]\n",
      "Saving the dataset (1/1 shards): 100%|██████████| 4906/4906 [00:00<00:00, 289339.62 examples/s]"
     ]
    },
    {
     "name": "stdout",
     "output_type": "stream",
     "text": [
      "mrpc\n"
     ]
    },
    {
     "name": "stderr",
     "output_type": "stream",
     "text": [
      "\n"
     ]
    },
    {
     "name": "stdout",
     "output_type": "stream",
     "text": [
      "mrpc samples: 3668\n"
     ]
    },
    {
     "name": "stderr",
     "output_type": "stream",
     "text": [
      "Saving the dataset (1/1 shards): 100%|██████████| 3668/3668 [00:00<00:00, 460041.48 examples/s]\n",
      "Saving the dataset (1/1 shards): 100%|██████████| 408/408 [00:00<00:00, 68224.54 examples/s] \n",
      "Saving the dataset (1/1 shards): 100%|██████████| 1725/1725 [00:00<00:00, 115303.42 examples/s]"
     ]
    },
    {
     "name": "stdout",
     "output_type": "stream",
     "text": [
      "boolq\n"
     ]
    },
    {
     "name": "stderr",
     "output_type": "stream",
     "text": [
      "\n"
     ]
    },
    {
     "name": "stdout",
     "output_type": "stream",
     "text": [
      "boolq samples: 9427\n"
     ]
    },
    {
     "name": "stderr",
     "output_type": "stream",
     "text": [
      "Saving the dataset (1/1 shards): 100%|██████████| 9427/9427 [00:00<00:00, 1108393.01 examples/s]\n",
      "Saving the dataset (1/1 shards): 100%|██████████| 3270/3270 [00:00<00:00, 270723.11 examples/s]\n",
      "Saving the dataset (1/1 shards): 100%|██████████| 3245/3245 [00:00<00:00, 59378.30 examples/s] "
     ]
    },
    {
     "name": "stdout",
     "output_type": "stream",
     "text": [
      "commonsense_qa\n"
     ]
    },
    {
     "name": "stderr",
     "output_type": "stream",
     "text": [
      "\n"
     ]
    },
    {
     "name": "stdout",
     "output_type": "stream",
     "text": [
      "commonsense_qa samples: 9741\n"
     ]
    },
    {
     "name": "stderr",
     "output_type": "stream",
     "text": [
      "Saving the dataset (1/1 shards): 100%|██████████| 9741/9741 [00:00<00:00, 925931.22 examples/s]\n",
      "Saving the dataset (1/1 shards): 100%|██████████| 1221/1221 [00:00<00:00, 99162.46 examples/s] \n",
      "Saving the dataset (1/1 shards): 100%|██████████| 1140/1140 [00:00<00:00, 116154.66 examples/s]"
     ]
    },
    {
     "name": "stdout",
     "output_type": "stream",
     "text": [
      "scitail\n"
     ]
    },
    {
     "name": "stderr",
     "output_type": "stream",
     "text": [
      "\n"
     ]
    },
    {
     "name": "stdout",
     "output_type": "stream",
     "text": [
      "scitail samples: 23097\n"
     ]
    },
    {
     "name": "stderr",
     "output_type": "stream",
     "text": [
      "Saving the dataset (1/1 shards): 100%|██████████| 23097/23097 [00:00<00:00, 2316994.08 examples/s]\n",
      "Saving the dataset (1/1 shards): 100%|██████████| 2126/2126 [00:00<00:00, 188593.76 examples/s]\n",
      "Saving the dataset (1/1 shards): 100%|██████████| 1304/1304 [00:00<00:00, 145072.34 examples/s]"
     ]
    },
    {
     "name": "stdout",
     "output_type": "stream",
     "text": [
      "cosmos_qa\n"
     ]
    },
    {
     "name": "stderr",
     "output_type": "stream",
     "text": [
      "\n"
     ]
    },
    {
     "name": "stdout",
     "output_type": "stream",
     "text": [
      "cosmos_qa samples: 25262\n"
     ]
    },
    {
     "name": "stderr",
     "output_type": "stream",
     "text": [
      "Saving the dataset (1/1 shards): 100%|██████████| 25262/25262 [00:00<00:00, 584001.21 examples/s]\n",
      "Saving the dataset (1/1 shards): 100%|██████████| 6963/6963 [00:00<00:00, 552820.21 examples/s]\n",
      "Saving the dataset (1/1 shards): 100%|██████████| 2985/2985 [00:00<00:00, 262876.05 examples/s]"
     ]
    },
    {
     "name": "stdout",
     "output_type": "stream",
     "text": [
      "social_i_qa\n"
     ]
    },
    {
     "name": "stderr",
     "output_type": "stream",
     "text": [
      "\n"
     ]
    },
    {
     "name": "stdout",
     "output_type": "stream",
     "text": [
      "social_i_qa samples: 33410\n"
     ]
    },
    {
     "name": "stderr",
     "output_type": "stream",
     "text": [
      "Saving the dataset (1/1 shards): 100%|██████████| 33410/33410 [00:00<00:00, 755280.36 examples/s]\n",
      "Saving the dataset (1/1 shards): 100%|██████████| 1954/1954 [00:00<00:00, 162945.50 examples/s]"
     ]
    },
    {
     "name": "stdout",
     "output_type": "stream",
     "text": [
      "hellaswag\n"
     ]
    },
    {
     "name": "stderr",
     "output_type": "stream",
     "text": [
      "\n",
      "c:\\Users\\Hector Auvinen\\Documents\\GitHub\\adapter_experiments\\adapter_env\\lib\\site-packages\\datasets\\load.py:1429: FutureWarning: The repository for hellaswag contains custom code which must be executed to correctly load the dataset. You can inspect the repository content at https://hf.co/datasets/hellaswag\n",
      "You can avoid this message in future by passing the argument `trust_remote_code=True`.\n",
      "Passing `trust_remote_code=True` will be mandatory to load this dataset from the next major release of `datasets`.\n",
      "  warnings.warn(\n"
     ]
    },
    {
     "name": "stdout",
     "output_type": "stream",
     "text": [
      "hellaswag samples: 39905\n"
     ]
    },
    {
     "name": "stderr",
     "output_type": "stream",
     "text": [
      "Saving the dataset (1/1 shards): 100%|██████████| 39905/39905 [00:00<00:00, 472290.75 examples/s]\n",
      "Saving the dataset (1/1 shards): 100%|██████████| 10003/10003 [00:00<00:00, 428402.75 examples/s]\n",
      "Saving the dataset (1/1 shards): 100%|██████████| 10042/10042 [00:00<00:00, 261933.70 examples/s]"
     ]
    },
    {
     "name": "stdout",
     "output_type": "stream",
     "text": [
      "imdb"
     ]
    },
    {
     "name": "stderr",
     "output_type": "stream",
     "text": [
      "\n"
     ]
    },
    {
     "name": "stdout",
     "output_type": "stream",
     "text": [
      "\n",
      "imdb samples: 25000\n"
     ]
    },
    {
     "name": "stderr",
     "output_type": "stream",
     "text": [
      "Saving the dataset (1/1 shards): 100%|██████████| 25000/25000 [00:00<00:00, 526570.68 examples/s]\n",
      "Saving the dataset (1/1 shards): 100%|██████████| 50000/50000 [00:00<00:00, 653236.98 examples/s]\n",
      "Saving the dataset (1/1 shards): 100%|██████████| 25000/25000 [00:00<00:00, 647073.42 examples/s]\n"
     ]
    },
    {
     "name": "stdout",
     "output_type": "stream",
     "text": [
      "winogrande\n",
      "winogrande samples: 40398\n"
     ]
    },
    {
     "name": "stderr",
     "output_type": "stream",
     "text": [
      "Saving the dataset (1/1 shards): 100%|██████████| 40398/40398 [00:00<00:00, 1093128.61 examples/s]\n",
      "Saving the dataset (1/1 shards): 100%|██████████| 1767/1767 [00:00<00:00, 190190.29 examples/s]\n",
      "Saving the dataset (1/1 shards): 100%|██████████| 1267/1267 [00:00<00:00, 108543.54 examples/s]"
     ]
    },
    {
     "name": "stdout",
     "output_type": "stream",
     "text": [
      "sst2\n"
     ]
    },
    {
     "name": "stderr",
     "output_type": "stream",
     "text": [
      "\n"
     ]
    },
    {
     "name": "stdout",
     "output_type": "stream",
     "text": [
      "sst2 samples: 67349\n"
     ]
    },
    {
     "name": "stderr",
     "output_type": "stream",
     "text": [
      "Saving the dataset (1/1 shards): 100%|██████████| 67349/67349 [00:00<00:00, 997489.98 examples/s] \n",
      "Saving the dataset (1/1 shards): 100%|██████████| 872/872 [00:00<00:00, 108172.88 examples/s]\n",
      "Saving the dataset (1/1 shards): 100%|██████████| 1821/1821 [00:00<00:00, 90803.29 examples/s]"
     ]
    },
    {
     "name": "stdout",
     "output_type": "stream",
     "text": [
      "qqp\n"
     ]
    },
    {
     "name": "stderr",
     "output_type": "stream",
     "text": [
      "\n"
     ]
    },
    {
     "name": "stdout",
     "output_type": "stream",
     "text": [
      "qqp samples: 363846\n"
     ]
    },
    {
     "name": "stderr",
     "output_type": "stream",
     "text": [
      "Saving the dataset (1/1 shards): 100%|██████████| 363846/363846 [00:00<00:00, 1421073.36 examples/s]\n",
      "Saving the dataset (1/1 shards): 100%|██████████| 40430/40430 [00:00<00:00, 1094651.26 examples/s]\n",
      "Saving the dataset (1/1 shards): 100%|██████████| 390965/390965 [00:00<00:00, 1673177.51 examples/s]\n"
     ]
    },
    {
     "name": "stdout",
     "output_type": "stream",
     "text": [
      "mnli\n",
      "PROCESSING MNLI\n",
      "DATASET DatasetDict({\n",
      "    train: Dataset({\n",
      "        features: ['premise', 'hypothesis', 'label', 'idx'],\n",
      "        num_rows: 392702\n",
      "    })\n",
      "    validation_matched: Dataset({\n",
      "        features: ['premise', 'hypothesis', 'label', 'idx'],\n",
      "        num_rows: 9815\n",
      "    })\n",
      "    validation_mismatched: Dataset({\n",
      "        features: ['premise', 'hypothesis', 'label', 'idx'],\n",
      "        num_rows: 9832\n",
      "    })\n",
      "    test_matched: Dataset({\n",
      "        features: ['premise', 'hypothesis', 'label', 'idx'],\n",
      "        num_rows: 9796\n",
      "    })\n",
      "    test_mismatched: Dataset({\n",
      "        features: ['premise', 'hypothesis', 'label', 'idx'],\n",
      "        num_rows: 9847\n",
      "    })\n",
      "})\n",
      "dataset val Dataset({\n",
      "    features: ['premise', 'hypothesis', 'label', 'idx'],\n",
      "    num_rows: 9815\n",
      "})\n",
      "mnli samples: 392702\n"
     ]
    },
    {
     "name": "stderr",
     "output_type": "stream",
     "text": [
      "Saving the dataset (1/1 shards): 100%|██████████| 392702/392702 [00:00<00:00, 1506598.65 examples/s]\n",
      "Saving the dataset (1/1 shards): 100%|██████████| 9832/9832 [00:00<00:00, 468352.04 examples/s]\n",
      "Saving the dataset (1/1 shards): 100%|██████████| 9796/9796 [00:00<00:00, 596299.23 examples/s]\n",
      "Saving the dataset (1/1 shards): 100%|██████████| 9847/9847 [00:00<00:00, 602771.66 examples/s]\n",
      "Saving the dataset (1/1 shards): 100%|██████████| 9815/9815 [00:00<00:00, 453212.38 examples/s]\n"
     ]
    }
   ],
   "source": [
    "for task in tasks:\n",
    "    print(task)\n",
    "    data = load_hf_dataset(task,debug=False)\n",
    "    print(task,\"samples:\",data[\"train\"].num_rows)\n",
    "    write_path = f\"C:/Users/Hector Auvinen/Documents/practical_work/data/{task}\"\n",
    "    data.save_to_disk(write_path)\n",
    "    "
   ]
  }
 ],
 "metadata": {
  "kernelspec": {
   "display_name": "adapter_env",
   "language": "python",
   "name": "python3"
  },
  "language_info": {
   "codemirror_mode": {
    "name": "ipython",
    "version": 3
   },
   "file_extension": ".py",
   "mimetype": "text/x-python",
   "name": "python",
   "nbconvert_exporter": "python",
   "pygments_lexer": "ipython3",
   "version": "3.9.15"
  }
 },
 "nbformat": 4,
 "nbformat_minor": 2
}
